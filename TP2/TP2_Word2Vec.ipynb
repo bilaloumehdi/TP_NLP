{
  "nbformat": 4,
  "nbformat_minor": 0,
  "metadata": {
    "colab": {
      "provenance": [],
      "authorship_tag": "ABX9TyOlwrm0+ksq/CQGk7OTrzQt",
      "include_colab_link": true
    },
    "kernelspec": {
      "name": "python3",
      "display_name": "Python 3"
    },
    "language_info": {
      "name": "python"
    }
  },
  "cells": [
    {
      "cell_type": "markdown",
      "metadata": {
        "id": "view-in-github",
        "colab_type": "text"
      },
      "source": [
        "<a href=\"https://colab.research.google.com/github/bilaloumehdi/TP_NLP/blob/master/TP2/TP2_Word2Vec.ipynb\" target=\"_parent\"><img src=\"https://colab.research.google.com/assets/colab-badge.svg\" alt=\"Open In Colab\"/></a>"
      ]
    },
    {
      "cell_type": "markdown",
      "source": [
        "\n",
        "\n",
        "### **Install gensim Library**"
      ],
      "metadata": {
        "id": "8U-h2tJ3gCFI"
      }
    },
    {
      "cell_type": "code",
      "execution_count": 1,
      "metadata": {
        "colab": {
          "base_uri": "https://localhost:8080/"
        },
        "id": "lsqMR-yjeFtI",
        "outputId": "c095c2d3-02e2-499a-c20a-642c68636583"
      },
      "outputs": [
        {
          "output_type": "stream",
          "name": "stdout",
          "text": [
            "Requirement already satisfied: gensim in /usr/local/lib/python3.10/dist-packages (4.3.2)\n",
            "Requirement already satisfied: numpy>=1.18.5 in /usr/local/lib/python3.10/dist-packages (from gensim) (1.23.5)\n",
            "Requirement already satisfied: scipy>=1.7.0 in /usr/local/lib/python3.10/dist-packages (from gensim) (1.11.3)\n",
            "Requirement already satisfied: smart-open>=1.8.1 in /usr/local/lib/python3.10/dist-packages (from gensim) (6.4.0)\n"
          ]
        }
      ],
      "source": [
        "!pip install gensim"
      ]
    },
    {
      "cell_type": "markdown",
      "source": [
        "### **Train and save the Word2Vec model**"
      ],
      "metadata": {
        "id": "BuQFOGU7PHqt"
      }
    },
    {
      "cell_type": "code",
      "source": [
        "from gensim import utils\n",
        "\n",
        "def read_corpus(filename):\n",
        "  with open(filename,'r',) as file:\n",
        "    for line in file:\n",
        "      yield utils.simple_preprocess(line)\n"
      ],
      "metadata": {
        "id": "ga6qevsrgInr"
      },
      "execution_count": 94,
      "outputs": []
    },
    {
      "cell_type": "code",
      "source": [
        "from gensim.models import Word2Vec\n",
        "\n",
        "sentences = list(read_corpus('./text'))\n",
        "print(sentences)"
      ],
      "metadata": {
        "id": "auphlJzmhICU",
        "colab": {
          "base_uri": "https://localhost:8080/"
        },
        "outputId": "63163481-14d2-485b-92f7-2b47002f5c9e"
      },
      "execution_count": 95,
      "outputs": [
        {
          "output_type": "stream",
          "name": "stdout",
          "text": [
            "[['morocco', 'and', 'marrakech', 'tapestry', 'of', 'tradition', 'and', 'modernity', 'morocco', 'located', 'at', 'the', 'crossroads', 'of', 'europe', 'and', 'africa', 'is', 'country', 'drenched', 'in', 'history', 'mystery', 'and', 'cultural', 'richness', 'testament', 'to', 'the', 'ancient', 'civilizations', 'that', 'once', 'flourished', 'here', 'this', 'north', 'african', 'kingdom', 'boasts', 'unique', 'blend', 'of', 'arab', 'berber', 'and', 'european', 'influences', 'at', 'the', 'heart', 'of', 'morocco', 'rich', 'tapestry', 'lies', 'marrakech', 'one', 'of', 'its', 'four', 'imperial', 'cities', 'and', 'vibrant', 'epicenter', 'of', 'tradition', 'and', 'modernity', 'geographical', 'significance', 'morocco', 'is', 'bordered', 'by', 'the', 'atlantic', 'ocean', 'to', 'the', 'west', 'the', 'mediterranean', 'sea', 'to', 'the', 'north', 'algeria', 'to', 'the', 'east', 'and', 'southeast', 'and', 'the', 'vast', 'sahara', 'desert', 'to', 'the', 'south', 'its', 'strategic', 'location', 'has', 'historically', 'made', 'it', 'sought', 'after', 'territory', 'and', 'melting', 'pot', 'of', 'cultures', 'religions', 'and', 'trade', 'routes', 'marrakech', 'the', 'red', 'city', 'marrakech', 'often', 'referred', 'to', 'as', 'the', 'red', 'city', 'due', 'to', 'its', 'distinctive', 'red', 'hued', 'buildings', 'stands', 'against', 'the', 'backdrop', 'of', 'the', 'snow', 'capped', 'atlas', 'mountains', 'established', 'in', 'the', 'th', 'century', 'it', 'has', 'remained', 'crucial', 'political', 'economic', 'and', 'cultural', 'center', 'of', 'morocco', 'journey', 'through', 'the', 'medina', 'marrakech', 'old', 'town', 'the', 'medina', 'is', 'unesco', 'world', 'heritage', 'site', 'and', 'labyrinthine', 'maze', 'of', 'narrow', 'alleys', 'bustling', 'souks', 'and', 'historical', 'landmarks', 'the', 'djemaa', 'el', 'fna', 'square', 'lies', 'at', 'the', 'heart', 'of', 'the', 'medina', 'and', 'comes', 'alive', 'every', 'evening', 'with', 'storytellers', 'musicians', 'snake', 'charmers', 'and', 'food', 'stalls', 'offering', 'tantalizing', 'moroccan', 'delicacies', 'palaces', 'and', 'gardens', 'the', 'city', 'is', 'also', 'home', 'to', 'grand', 'palaces', 'like', 'the', 'bahia', 'palace', 'showcasing', 'intricate', 'islamic', 'architecture', 'and', 'the', 'saadian', 'tombs', 'remnants', 'of', 'the', 'saadian', 'dynasty', 'the', 'majorelle', 'garden', 'restored', 'by', 'the', 'fashion', 'designer', 'yves', 'saint', 'laurent', 'is', 'tranquil', 'oasis', 'of', 'cacti', 'palm', 'trees', 'and', 'cobalt', 'blue', 'accents', 'modern', 'marrakech', 'while', 'tradition', 'and', 'history', 'permeate', 'marrakech', 'the', 'city', 'is', 'not', 'averse', 'to', 'the', 'modern', 'world', 'gueliz', 'the', 'new', 'town', 'is', 'brimming', 'with', 'contemporary', 'art', 'galleries', 'stylish', 'cafes', 'and', 'chic', 'boutiques', 'offering', 'stark', 'contrast', 'to', 'the', 'ancient', 'medina', 'moroccan', 'cuisine', 'no', 'journey', 'through', 'morocco', 'and', 'marrakech', 'would', 'be', 'complete', 'without', 'indulging', 'in', 'the', 'local', 'cuisine', 'tagines', 'couscous', 'and', 'pastilla', 'are', 'just', 'few', 'of', 'the', 'many', 'dishes', 'that', 'combine', 'plethora', 'of', 'flavors', 'and', 'spices', 'like', 'saffron', 'cumin', 'and', 'mint', 'paired', 'with', 'moroccan', 'mint', 'tea', 'the', 'culinary', 'experience', 'is', 'truly', 'unparalleled', 'in', 'conclusion', 'morocco', 'with', 'marrakech', 'at', 'its', 'heart', 'offers', 'travelers', 'an', 'unparalleled', 'journey', 'through', 'time', 'the', 'convergence', 'of', 'history', 'culture', 'architecture', 'and', 'gastronomy', 'makes', 'it', 'an', 'enthralling', 'destination', 'for', 'those', 'seeking', 'both', 'adventure', 'and', 'reflection', 'as', 'the', 'moroccan', 'proverb', 'goes', 'he', 'who', 'does', 'not', 'travel', 'does', 'not', 'know', 'the', 'value', 'of', 'men', 'in', 'the', 'case', 'of', 'morocco', 'and', 'marrakech', 'it', 'not', 'just', 'the', 'value', 'of', 'men', 'but', 'also', 'the', 'value', 'of', 'time', 'tradition', 'and', 'tales', 'that', 'have', 'spanned', 'centuries']]\n"
          ]
        }
      ]
    },
    {
      "cell_type": "code",
      "source": [
        "# train model\n",
        "model = Word2Vec(sentences, min_count=1,vector_size=100, workers=4)\n",
        "\n",
        "#save the model\n",
        "model.save('./word_to_vec.model')"
      ],
      "metadata": {
        "id": "oEElvsVQaszx"
      },
      "execution_count": 96,
      "outputs": []
    },
    {
      "cell_type": "markdown",
      "source": [
        "### **Vectorize words**"
      ],
      "metadata": {
        "id": "OApwf5kwbSxh"
      }
    },
    {
      "cell_type": "code",
      "source": [
        "#load the model\n",
        "model = Word2Vec.load('./word_to_vec.model')"
      ],
      "metadata": {
        "id": "Kwd6HPkokyfP"
      },
      "execution_count": 97,
      "outputs": []
    },
    {
      "cell_type": "code",
      "source": [
        "#vectorize the text's words\n",
        "words_vector = [model.wv[word] for word in sentences]\n",
        "print(words_vector)"
      ],
      "metadata": {
        "colab": {
          "base_uri": "https://localhost:8080/"
        },
        "id": "zaIZJHExKCx4",
        "outputId": "fee1614d-0ad6-45ee-f56d-e7469034cb7b"
      },
      "execution_count": 98,
      "outputs": [
        {
          "output_type": "stream",
          "name": "stdout",
          "text": [
            "[array([[-0.00873809,  0.00226957, -0.00084624, ..., -0.00882923,\n",
            "         0.00301891, -0.00663717],\n",
            "       [-0.00864786,  0.00394358,  0.0052691 , ..., -0.00258319,\n",
            "        -0.00938736,  0.00453307],\n",
            "       [-0.00821526,  0.00950234, -0.00014681, ..., -0.00763057,\n",
            "        -0.00236962, -0.00548861],\n",
            "       ...,\n",
            "       [-0.00452504, -0.00653396,  0.00555252, ..., -0.0029807 ,\n",
            "         0.00523548, -0.0007321 ],\n",
            "       [-0.00305008,  0.00378533,  0.00385601, ...,  0.00901304,\n",
            "        -0.00359052,  0.00411143],\n",
            "       [-0.00703125, -0.00560686,  0.00971714, ...,  0.00468867,\n",
            "        -0.00697161,  0.00633496]], dtype=float32)]\n"
          ]
        }
      ]
    },
    {
      "cell_type": "code",
      "source": [
        "# save the words vectors in a text format\n",
        "model.wv.save_word2vec_format('words_vectors.text',binary=False)"
      ],
      "metadata": {
        "id": "Tz_iaK-0O7mH"
      },
      "execution_count": 109,
      "outputs": []
    },
    {
      "cell_type": "markdown",
      "source": [
        "### **Similarity**"
      ],
      "metadata": {
        "id": "R6_oI6l8mzD5"
      }
    },
    {
      "cell_type": "code",
      "source": [
        "# load the words vectors\n",
        "from gensim.models.keyedvectors import KeyedVectors\n",
        "loaded_word_vectors = KeyedVectors.load_word2vec_format(\"words_vectors.text\", binary=False)\n"
      ],
      "metadata": {
        "id": "7xPfPHkvm_CS"
      },
      "execution_count": 113,
      "outputs": []
    },
    {
      "cell_type": "code",
      "source": [
        "# similarity\n",
        "print('most similarities to morocco : ')\n",
        "word_morocco = loaded_word_vectors.most_similar(\"morocco\",topn=5)\n",
        "word_morocco"
      ],
      "metadata": {
        "colab": {
          "base_uri": "https://localhost:8080/"
        },
        "id": "pTvZ3QNWJj8A",
        "outputId": "66b0c3e4-4073-49b2-8488-ada742c93f31"
      },
      "execution_count": 115,
      "outputs": [
        {
          "output_type": "stream",
          "name": "stdout",
          "text": [
            "most similarities to morocco : \n"
          ]
        },
        {
          "output_type": "execute_result",
          "data": {
            "text/plain": [
              "[('comes', 0.3211769163608551),\n",
              " ('snow', 0.3105997145175934),\n",
              " ('mountains', 0.2844999432563782),\n",
              " ('against', 0.2412889003753662),\n",
              " ('berber', 0.20771968364715576)]"
            ]
          },
          "metadata": {},
          "execution_count": 115
        }
      ]
    },
    {
      "cell_type": "code",
      "source": [
        "word_europe = loaded_word_vectors.most_similar('europe')\n",
        "word_europe"
      ],
      "metadata": {
        "colab": {
          "base_uri": "https://localhost:8080/"
        },
        "id": "0Uxy4B2FSoa8",
        "outputId": "4339d03c-6f1f-4cb0-df36-d13022c29cc0"
      },
      "execution_count": 116,
      "outputs": [
        {
          "output_type": "execute_result",
          "data": {
            "text/plain": [
              "[('west', 0.28858399391174316),\n",
              " ('blend', 0.24392668902873993),\n",
              " ('testament', 0.2290310263633728),\n",
              " ('red', 0.21492047607898712),\n",
              " ('many', 0.1961124837398529),\n",
              " ('crucial', 0.1894175410270691),\n",
              " ('case', 0.18915274739265442),\n",
              " ('arab', 0.17835131287574768),\n",
              " ('spices', 0.17564605176448822),\n",
              " ('heart', 0.1740351915359497)]"
            ]
          },
          "metadata": {},
          "execution_count": 116
        }
      ]
    },
    {
      "cell_type": "code",
      "source": [
        "word_marrakech = loaded_word_vectors.most_similar('marrakech')\n",
        "word_marrakech"
      ],
      "metadata": {
        "colab": {
          "base_uri": "https://localhost:8080/"
        },
        "id": "-nZKpSfrlVCJ",
        "outputId": "9ab0ed49-50ee-4cc4-8af5-b7d01cdd920d"
      },
      "execution_count": 117,
      "outputs": [
        {
          "output_type": "execute_result",
          "data": {
            "text/plain": [
              "[('evening', 0.29856181144714355),\n",
              " ('but', 0.2722093164920807),\n",
              " ('labyrinthine', 0.2573889493942261),\n",
              " ('averse', 0.24176569283008575),\n",
              " ('permeate', 0.2268962860107422),\n",
              " ('without', 0.22356857359409332),\n",
              " ('alleys', 0.21861228346824646),\n",
              " ('capped', 0.20676937699317932),\n",
              " ('designer', 0.1892811506986618),\n",
              " ('sahara', 0.18486753106117249)]"
            ]
          },
          "metadata": {},
          "execution_count": 117
        }
      ]
    }
  ]
}